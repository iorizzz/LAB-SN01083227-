{
 "cells": [
  {
   "cell_type": "code",
   "execution_count": 3,
   "id": "a0ec43bc-b30c-48d3-8f59-3836c4cbe1d6",
   "metadata": {},
   "outputs": [
    {
     "name": "stdout",
     "output_type": "stream",
     "text": [
      "Digits found: ['24567', '8934', '12', '30']\n"
     ]
    }
   ],
   "source": [
    "import re\n",
    "\n",
    "text = \"Order number: 24567, Tracking ID: 8934A12, Quantity: 30\"\n",
    "\n",
    "# Regular expression to match all digits\n",
    "pattern = r'\\d+'\n",
    "\n",
    "matches = re.findall(pattern, text)\n",
    "print(\"Digits found:\", matches)\n"
   ]
  },
  {
   "cell_type": "code",
   "execution_count": 5,
   "id": "d2e587a7-dd04-40c7-98df-ef7b76ffa5bb",
   "metadata": {},
   "outputs": [
    {
     "name": "stdout",
     "output_type": "stream",
     "text": [
      "Non-alphanumeric characters: ['!', ' ', \"'\", ' ', ' ', ' ', '?', ' ', ' ', ' ', '@', ' ', '.']\n"
     ]
    }
   ],
   "source": [
    "import re\n",
    "\n",
    "text = \"Welcome! How's your day going? Call me @ 3pm.\"\n",
    "\n",
    "# Regular expression to match all non-alphanumeric characters\n",
    "pattern = r'[^a-zA-Z0-9]'\n",
    "\n",
    "matches = re.findall(pattern, text)\n",
    "print(\"Non-alphanumeric characters:\", matches)\n"
   ]
  },
  {
   "cell_type": "code",
   "execution_count": 7,
   "id": "3236a2f4-506b-430c-9e9a-fba80912a3f1",
   "metadata": {},
   "outputs": [
    {
     "name": "stdout",
     "output_type": "stream",
     "text": [
      "Split text: ['Data Science', ' AI', ' and Machine Learning', ' These fields are growing fast', '']\n"
     ]
    }
   ],
   "source": [
    "import re\n",
    "\n",
    "text = \"Data Science, AI, and Machine Learning. These fields are growing fast.\"\n",
    "\n",
    "# Regular expression to match commas and periods\n",
    "pattern = r'[.,]'\n",
    "\n",
    "split_text = re.split(pattern, text)\n",
    "print(\"Split text:\", split_text)\n"
   ]
  },
  {
   "cell_type": "code",
   "execution_count": 9,
   "id": "3d149ffe-73cd-4ece-83fe-8c76405233f7",
   "metadata": {},
   "outputs": [
    {
     "name": "stdout",
     "output_type": "stream",
     "text": [
      "Anonymized text: Contact us at [HIDDEN] or [HIDDEN]\n"
     ]
    }
   ],
   "source": [
    "import re\n",
    "\n",
    "text = \"Contact us at support@example.com or info@company.org\"\n",
    "pattern = r'\\b[A-Za-z0-9._%+-]+@[A-Za-z0-9.-]+\\.[A-Z|a-z]{2,7}\\b'\n",
    "new_text = re.sub(pattern, \"[HIDDEN]\", text)\n",
    "\n",
    "print(\"Anonymized text:\", new_text)\n"
   ]
  },
  {
   "cell_type": "code",
   "execution_count": 11,
   "id": "4d2080b2-f589-4905-adac-66706ee7c326",
   "metadata": {},
   "outputs": [
    {
     "name": "stdout",
     "output_type": "stream",
     "text": [
      "Domain types: ['com', 'edu', 'org']\n"
     ]
    }
   ],
   "source": [
    "import re\n",
    "\n",
    "text = \"Emails: user@gmail.com, admin@university.edu, info@company.org\"\n",
    "pattern = r'@[\\w.-]+\\.([a-z]+)'  # Extracts the part after the last dot in the domain\n",
    "matches = re.findall(pattern, text)\n",
    "print(\"Domain types:\", matches)\n"
   ]
  },
  {
   "cell_type": "code",
   "execution_count": null,
   "id": "ac8f5069-2645-42e2-ae50-b245b90910e8",
   "metadata": {},
   "outputs": [],
   "source": []
  }
 ],
 "metadata": {
  "kernelspec": {
   "display_name": "Python [conda env:base] *",
   "language": "python",
   "name": "conda-base-py"
  },
  "language_info": {
   "codemirror_mode": {
    "name": "ipython",
    "version": 3
   },
   "file_extension": ".py",
   "mimetype": "text/x-python",
   "name": "python",
   "nbconvert_exporter": "python",
   "pygments_lexer": "ipython3",
   "version": "3.12.7"
  }
 },
 "nbformat": 4,
 "nbformat_minor": 5
}
